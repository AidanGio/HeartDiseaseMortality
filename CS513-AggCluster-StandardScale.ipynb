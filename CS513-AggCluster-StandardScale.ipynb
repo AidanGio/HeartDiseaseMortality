{
 "cells": [
  {
   "cell_type": "code",
   "execution_count": 1,
   "metadata": {},
   "outputs": [],
   "source": [
    "import numpy as np\n",
    "import pandas as pd\n",
    "from sklearn.preprocessing import MinMaxScaler, StandardScaler\n",
    "from sklearn.cluster import AgglomerativeClustering\n",
    "from sklearn.metrics import confusion_matrix, classification_report"
   ]
  },
  {
   "cell_type": "code",
   "execution_count": 2,
   "metadata": {},
   "outputs": [
    {
     "name": "stdout",
     "output_type": "stream",
     "text": [
      "Empty DataFrame\n",
      "Columns: [Age, Age.Group, Gender, Locality  , Marital status                       , Life.Style                                                                              , Sleep, Category, Depression, Hyperlipi, Smoking, Family.History, F.History, Diabetes, HTN, Allergies, BP, Thrombolysis, BGR, B.Urea, S.Cr, S.Sodium, S.Potassium, S.Chloride, C.P.K, CK.MB, ESR, WBC, RBC, Hemoglobin, P.C.V, M.C.V, M.C.H, M.C.H.C, PLATELET_COUNT, NEUTROPHIL, LYMPHO, MONOCYTE, EOSINO, Others , CO, Diagnosis, Hypersensitivity, cp, trestbps, chol, fbs, restecg, thalach, exang, oldpeak, slope, ca, thal, num, SK, SK.React, Reaction, Mortality, Follow.Up]\n",
      "Index: []\n",
      "\n",
      "[0 rows x 60 columns]\n",
      "Euclidean Clustering\n",
      "Cluster    0  1\n",
      "Actual         \n",
      "0        285  3\n",
      "1         80  0\n",
      "\n",
      "Manhattan Clustering\n",
      "Cluster    0  1\n",
      "Actual         \n",
      "0        285  3\n",
      "1         80  0\n",
      "This is how many rows are accurate in euclidean clustering : 285 \n",
      "Out of 368 \n",
      "Which is an accuracy rate of 77.44565217391305%\n",
      "\n",
      "This is how may rows are accurate in manhattan clustering: 285 \n",
      "Out of 368\n",
      "Which is an accuracy rate of 77.44565217391305%\n"
     ]
    }
   ],
   "source": [
    "# load the dataset \n",
    "df = pd.read_csv('/Users/tsconing/Downloads/FIC.Full.csv')\n",
    "\n",
    "\n",
    "\n",
    "df.columns = df.columns.str.strip()\n",
    "\n",
    "\n",
    "\n",
    "df = df.drop(columns=['Others','Family.History', 'CO', 'Diagnosis', 'Life.Style', 'Sleep', 'Category', 'Age.Group'])\n",
    "\n",
    "\n",
    "# turn the binary data into 1/0s \n",
    "one_hot_encoded = pd.get_dummies(df[['Gender', 'Locality', 'Marital status', 'Depression', 'Hyperlipi', 'Smoking', 'HTN', 'Allergies', 'Hypersensitivity', 'SK.React']])\n",
    "# drop categories \n",
    "df = df.drop(columns=['Gender', 'Locality', 'Marital status', 'Depression', 'Hyperlipi', 'Smoking', 'HTN', 'Allergies', 'Hypersensitivity', 'SK.React'])\n",
    "# add categories back to dataframe \n",
    "df = pd.concat([df, one_hot_encoded], axis=1)\n",
    "\n",
    "\n",
    "\n",
    "\n",
    "# initialize the Standard scalar \n",
    "scaler = StandardScaler()\n",
    "\n",
    "attr = df.drop('Mortality', axis=1)\n",
    "\n",
    "target = df['Mortality']\n",
    "\n",
    "attr = pd.DataFrame(scaler.fit_transform(attr), columns=attr.columns)\n",
    "attr.head()\n",
    "\n",
    "\n",
    "\n",
    "groups = AgglomerativeClustering(n_clusters=2, metric='euclidean', linkage='average')\n",
    "clusters = groups.fit_predict(attr)\n",
    "\n",
    "groups2 = AgglomerativeClustering(n_clusters=2, metric='Manhattan', linkage='average')\n",
    "clusters2 = groups.fit_predict(attr)\n",
    "\n",
    "\n",
    "\n",
    "\n",
    "df_cluster = pd.DataFrame({'Actual':target, 'Cluster':clusters})\n",
    "df_cluster2 = pd.DataFrame({'Actual':target, 'Cluster':clusters2})\n",
    "\n",
    "\n",
    "cross_tabulation = pd.crosstab(df_cluster['Actual'], df_cluster['Cluster'])\n",
    "\n",
    "\n",
    "\n",
    "cross_tabulation2 = pd.crosstab(df_cluster2['Actual'], df_cluster2['Cluster'])\n",
    "\n",
    "print('Euclidean Clustering')\n",
    "print(cross_tabulation)\n",
    "\n",
    "print('\\nManhattan Clustering')\n",
    "print(cross_tabulation2)\n",
    "\n",
    "\n",
    "count = (df_cluster['Actual'] == df_cluster['Cluster']).sum()\n",
    "\n",
    "\n",
    "print(f'This is how many rows are accurate in euclidean clustering : {count} \\nOut of {len(df_cluster)} \\nWhich is an accuracy rate of {(count/len(df_cluster)) * 100}%')\n",
    "print()\n",
    "\n",
    "count2 = (df_cluster2['Actual'] == df_cluster2['Cluster']).sum()\n",
    "\n",
    "print(f'This is how may rows are accurate in manhattan clustering: {count2} \\nOut of {len(df_cluster2)}\\nWhich is an accuracy rate of { (count/len(df_cluster2)) * 100}%')\n"
   ]
  },
  {
   "cell_type": "code",
   "execution_count": null,
   "metadata": {},
   "outputs": [],
   "source": []
  },
  {
   "cell_type": "code",
   "execution_count": null,
   "metadata": {},
   "outputs": [],
   "source": []
  }
 ],
 "metadata": {
  "kernelspec": {
   "display_name": "base",
   "language": "python",
   "name": "python3"
  },
  "language_info": {
   "codemirror_mode": {
    "name": "ipython",
    "version": 3
   },
   "file_extension": ".py",
   "mimetype": "text/x-python",
   "name": "python",
   "nbconvert_exporter": "python",
   "pygments_lexer": "ipython3",
   "version": "3.11.5"
  }
 },
 "nbformat": 4,
 "nbformat_minor": 2
}
