{
 "cells": [
  {
   "cell_type": "code",
   "execution_count": 46,
   "metadata": {},
   "outputs": [],
   "source": [
    "import pandas as pd\n",
    "\n",
    "df = pd.read_csv('FullData.csv')\n",
    "df.columns = df.columns.str.strip()\n",
    "df = df.drop(columns=['Others','Family.History', 'CO', 'Diagnosis', 'Life.Style', 'Sleep', 'Category', 'Age.Group'])\n"
   ]
  },
  {
   "cell_type": "code",
   "execution_count": 47,
   "metadata": {},
   "outputs": [],
   "source": [
    "from sklearn.model_selection import train_test_split\n",
    "from sklearn.ensemble import RandomForestClassifier\n",
    "from sklearn.metrics import classification_report, confusion_matrix\n",
    "from sklearn.preprocessing import OneHotEncoder, StandardScaler\n",
    "import seaborn as sns\n",
    "import matplotlib.pyplot as plt\n",
    "\n",
    "X = df.drop('Mortality', axis=1)\n",
    "y = df['Mortality']\n",
    "\n",
    "categorical_columns = X.select_dtypes(include=['object']).columns\n",
    "\n",
    "onehot_encoder = OneHotEncoder()\n",
    "X_encoded = onehot_encoder.fit_transform(X[categorical_columns])\n",
    "\n",
    "X_encoded_df = pd.DataFrame(X_encoded.toarray(), columns=onehot_encoder.get_feature_names_out(categorical_columns))\n",
    "\n",
    "X_final = pd.concat([X.drop(categorical_columns, axis=1), X_encoded_df], axis=1)\n",
    "\n",
    "scaler = StandardScaler()\n",
    "X_scaled = scaler.fit_transform(X_final)\n",
    "\n",
    "X_train, X_test, y_train, y_test = train_test_split(X_scaled, y, test_size=0.2, random_state=75)\n",
    "\n",
    "rf_classifier = RandomForestClassifier(n_estimators=100, random_state=75)\n",
    "\n",
    "rf_classifier.fit(X_train, y_train)\n",
    "\n",
    "y_pred = rf_classifier.predict(X_test)"
   ]
  },
  {
   "cell_type": "code",
   "execution_count": 48,
   "metadata": {},
   "outputs": [
    {
     "name": "stdout",
     "output_type": "stream",
     "text": [
      "Testing Accuracy: 0.9459459459459459\n",
      "Classification Report:\n",
      "              precision    recall  f1-score   support\n",
      "\n",
      "           0       0.94      1.00      0.97        58\n",
      "           1       1.00      0.75      0.86        16\n",
      "\n",
      "    accuracy                           0.95        74\n",
      "   macro avg       0.97      0.88      0.91        74\n",
      "weighted avg       0.95      0.95      0.94        74\n",
      "\n",
      "Confusion Matrix:\n",
      "[[58  0]\n",
      " [ 4 12]]\n"
     ]
    },
    {
     "data": {
      "image/png": "[encoded data removed]",
      "text/plain": [
       "<Figure size 640x480 with 2 Axes>"
      ]
     },
     "metadata": {},
     "output_type": "display_data"
    },
    {
     "name": "stdout",
     "output_type": "stream",
     "text": [
      "Top 10 Important Features of Random Forest:\n",
      "       Feature  Importance\n",
      "0          Age    0.108286\n",
      "28        chol    0.069292\n",
      "27    trestbps    0.057501\n",
      "31     thalach    0.056417\n",
      "35          ca    0.050231\n",
      "40   Follow.Up    0.037011\n",
      "33     oldpeak    0.033129\n",
      "16  Hemoglobin    0.029819\n",
      "2     Diabetes    0.029698\n",
      "6       B.Urea    0.022444\n"
     ]
    }
   ],
   "source": [
    "\n",
    "print(\"Testing Accuracy:\", rf_classifier.score(X_test, y_test))\n",
    "\n",
    "\n",
    "print(\"Classification Report:\")\n",
    "print(classification_report(y_test, y_pred))\n",
    "\n",
    "print(\"Confusion Matrix:\")\n",
    "print(confusion_matrix(y_test, y_pred))\n",
    "\n",
    "\n",
    "cm = confusion_matrix(y_test, y_pred)\n",
    "sns.heatmap(cm, annot=True, \n",
    "            xticklabels=['Died', 'Survived'], yticklabels=['Died', 'Survived'])\n",
    "plt.xlabel('Predicted')\n",
    "plt.ylabel('Actual')\n",
    "plt.title('Confusion Matrix')\n",
    "plt.show()\n",
    "\n",
    "feature_importances = rf_classifier.feature_importances_\n",
    "feature_names = X_final.columns\n",
    "important_features = pd.DataFrame({'Feature': feature_names, 'Importance': feature_importances})\n",
    "important_features = important_features.sort_values('Importance', ascending=False)\n",
    "\n",
    "print(\"Top 10 Important Features of Random Forest:\")\n",
    "print(important_features.head(10))"
   ]
  }
 ],
 "metadata": {
  "kernelspec": {
   "display_name": "Python 3",
   "language": "python",
   "name": "python3"
  },
  "language_info": {
   "codemirror_mode": {
    "name": "ipython",
    "version": 3
   },
   "file_extension": ".py",
   "mimetype": "text/x-python",
   "name": "python",
   "nbconvert_exporter": "python",
   "pygments_lexer": "ipython3",
   "version": "3.9.6"
  }
 },
 "nbformat": 4,
 "nbformat_minor": 2
}
