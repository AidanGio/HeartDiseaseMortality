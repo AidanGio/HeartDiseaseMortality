{
 "cells": [
  {
   "cell_type": "code",
   "execution_count": 1,
   "metadata": {},
   "outputs": [],
   "source": [
    "\n",
    "import numpy as np\n",
    "import pandas as pd\n",
    "import matplotlib.pyplot as plt\n",
    "from sklearn.cluster import KMeans\n",
    "from sklearn.datasets import load_iris\n",
    "from sklearn.decomposition import PCA\n"
   ]
  },
  {
   "cell_type": "code",
   "execution_count": 2,
   "metadata": {},
   "outputs": [
    {
     "name": "stderr",
     "output_type": "stream",
     "text": [
      "/opt/anaconda3/lib/python3.11/site-packages/sklearn/cluster/_kmeans.py:870: FutureWarning: The default value of `n_init` will change from 10 to 'auto' in 1.4. Set the value of `n_init` explicitly to suppress the warning\n",
      "  warnings.warn(\n"
     ]
    },
    {
     "name": "stdout",
     "output_type": "stream",
     "text": [
      "Cluster    0    1\n",
      "Actual           \n",
      "0        173  115\n",
      "1         53   27\n",
      "This is how many rows are accurate in Kmeans clustering : 200 \n",
      "Out of 368 \n",
      "Which is an accuracy rate of 54.347826086956516%\n",
      "\n"
     ]
    }
   ],
   "source": [
    "\n",
    "df = pd.read_csv('/Users/tsconing/Downloads/FIC.Full.csv')\n",
    "df.columns = df.columns.str.strip()\n",
    "\n",
    "df = df.drop(columns=['Others','Family.History', 'CO', 'Diagnosis', 'Life.Style', 'Sleep', 'Category', 'Age.Group'])\n",
    "\n",
    "# turn the binary data into 1/0s \n",
    "one_hot_encoded = pd.get_dummies(df[['Gender', 'Locality', 'Marital status', 'Depression', 'Hyperlipi', 'Smoking', 'HTN', 'Allergies', 'Hypersensitivity', 'SK.React']])\n",
    "# drop categories \n",
    "df = df.drop(columns=['Gender', 'Locality', 'Marital status', 'Depression', 'Hyperlipi', 'Smoking', 'HTN', 'Allergies', 'Hypersensitivity', 'SK.React'])\n",
    "# add categories back to dataframe \n",
    "df = pd.concat([df, one_hot_encoded], axis=1)\n",
    "\n",
    "\n",
    "attr = df.drop('Mortality', axis=1)\n",
    "\n",
    "target = df['Mortality']\n",
    "\n",
    "kmeans = KMeans(n_clusters=2, random_state=10)\n",
    "\n",
    "kmeans.fit(attr)\n",
    "\n",
    "labels = kmeans.labels_\n",
    "centers = kmeans.cluster_centers_\n",
    "\n",
    "df_cluster = pd.DataFrame({'Actual':target, 'Cluster':labels})\n",
    "\n",
    "\n",
    "\n",
    "cross_tabulation = pd.crosstab(df_cluster['Actual'], df_cluster['Cluster'])\n",
    "\n",
    "print(cross_tabulation)\n",
    "\n",
    "count = (df_cluster['Actual'] == df_cluster['Cluster']).sum()\n",
    "\n",
    "\n",
    "print(f'This is how many rows are accurate in Kmeans clustering : {count} \\nOut of {len(df_cluster)} \\nWhich is an accuracy rate of {(count/len(df_cluster)) * 100}%')\n",
    "print()"
   ]
  },
  {
   "cell_type": "code",
   "execution_count": null,
   "metadata": {},
   "outputs": [],
   "source": []
  }
 ],
 "metadata": {
  "kernelspec": {
   "display_name": "base",
   "language": "python",
   "name": "python3"
  },
  "language_info": {
   "codemirror_mode": {
    "name": "ipython",
    "version": 3
   },
   "file_extension": ".py",
   "mimetype": "text/x-python",
   "name": "python",
   "nbconvert_exporter": "python",
   "pygments_lexer": "ipython3",
   "version": "3.11.5"
  }
 },
 "nbformat": 4,
 "nbformat_minor": 2
}
